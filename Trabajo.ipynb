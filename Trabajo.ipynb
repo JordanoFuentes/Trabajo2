{
  "metadata": {
    "kernelspec": {
      "name": "python",
      "display_name": "Python (Pyodide)",
      "language": "python"
    },
    "language_info": {
      "codemirror_mode": {
        "name": "python",
        "version": 3
      },
      "file_extension": ".py",
      "mimetype": "text/x-python",
      "name": "python",
      "nbconvert_exporter": "python",
      "pygments_lexer": "ipython3",
      "version": "3.8"
    }
  },
  "nbformat_minor": 4,
  "nbformat": 4,
  "cells": [
    {
      "cell_type": "code",
      "source": "# Cuaderno de Trabajo",
      "metadata": {
        "trusted": true
      },
      "outputs": [],
      "execution_count": null
    },
    {
      "cell_type": "code",
      "source": "# Introduccion\nEn este trabajo Podremos explorar los distintos tipos de ejercicios y ejemplos.",
      "metadata": {
        "trusted": true
      },
      "outputs": [],
      "execution_count": null
    },
    {
      "cell_type": "code",
      "source": "# Lenguajes de la ciencia de datos\n1. Python\n2. R\n3. SQL\n",
      "metadata": {
        "trusted": true
      },
      "outputs": [],
      "execution_count": null
    },
    {
      "cell_type": "code",
      "source": "# Bibliotecas para la ciencia de datos\n\n1. **Pandas**: Utilizada para la manipulación y análisis de datos, especialmente con estructuras de datos como DataFrames. \n2. **Keras**: Una API de alto nivel que facilita la creación de redes neuronales profundas, diseñada para ejecutarse sobre TensorFlow.\n3. **PyTorch**: Un marco popular de aprendizaje automático y redes neuronales que se usa especialmente en investigación y desarrollo.\n4. **Spacy**: Otra biblioteca enfocada en NLP, diseñada para ser eficiente y rápida en el procesamiento de grandes volúmenes de texto.\n5. **XGBoost**: Un potente algoritmo de boosting, muy popular en competencias de ciencia de datos, para tareas de clasificación y regresión.\n6. **LightGBM**: Un framework de boosting para tareas de clasificación y regresión, diseñado para ser altamente eficiente y rápido\n",
      "metadata": {
        "trusted": true
      },
      "outputs": [],
      "execution_count": null
    },
    {
      "cell_type": "code",
      "source": "| Herramientas    |\n|-----------------|\n| Jupyter Notebook|\n| RStudio         |\n| Apache Zeppelin |\n| Spyder          |\n| KNIME           |\n| Orange          |\n",
      "metadata": {
        "trusted": true
      },
      "outputs": [],
      "execution_count": null
    },
    {
      "cell_type": "code",
      "source": "#ejemplos  expresiones aritméticas\n\na continuación veremos algunos ejemplos matemáticos.",
      "metadata": {
        "trusted": true
      },
      "outputs": [],
      "execution_count": null
    },
    {
      "cell_type": "code",
      "source": "# A continuación se muestran algunos ejemplos de evaluación de expresiones aritméticas en Python\n\n# Ejemplo 1: Multiplica 3 por 4 y suma 5\nprint((3*4) + 5)  \n\n# Ejemplo 2: Multiplica 8 por 5 y luego suma 10\nprint((8*5) + 10)  \n\n# Ejemplo 3: Multiplica 7 por 6 y suma 12\nprint((7*6) + 12)  \n",
      "metadata": {
        "trusted": true
      },
      "outputs": [
        {
          "name": "stdout",
          "text": "17\n50\n54\n",
          "output_type": "stream"
        }
      ],
      "execution_count": 14
    },
    {
      "cell_type": "code",
      "source": "# Esto convertirá 200 minutos en horas \n200 / 60\n",
      "metadata": {
        "trusted": true
      },
      "outputs": [
        {
          "execution_count": 16,
          "output_type": "execute_result",
          "data": {
            "text/plain": "3.3333333333333335"
          },
          "metadata": {}
        }
      ],
      "execution_count": 16
    },
    {
      "cell_type": "code",
      "source": "**Objectives:**\n\nA continuacion, Algunos objetivos importantes.\n\n- Listar lenguajes populares para la ciencia de datos.\n- Describir bibliotecas comunes de ciencia de datos.\n- Crear expresiones aritméticas sencillas.\n- Mostrar herramientas de código abierto utilizadas en ciencia de datos.\n- Explicar cómo convertir unidades utilizando Python.\n",
      "metadata": {
        "trusted": true
      },
      "outputs": [],
      "execution_count": null
    },
    {
      "cell_type": "code",
      "source": "## Jordano Fuentes ##\n##Autor\n",
      "metadata": {
        "trusted": true
      },
      "outputs": [],
      "execution_count": null
    }
  ]
}